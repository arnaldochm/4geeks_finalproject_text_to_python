{
 "cells": [
  {
   "cell_type": "code",
   "execution_count": null,
   "metadata": {},
   "outputs": [],
   "source": [
    "# Dataset: Natural Language to Python Code\n",
    "# Source: Link An Jarad. (2022). Natural Language to Python Code [Data set]. Kaggle. https://doi.org/10.34740/KAGGLE/DSV/3512475\n",
    "# URL: https://www.kaggle.com/datasets/linkanjarad/coding-problems-and-solution-python-code\n",
    "# Description: Link An Jarad (2022) developed this data set to generate python code\n",
    "# from Natural Language Text with code functionality descriptions."
   ]
  },
  {
   "cell_type": "code",
   "execution_count": 1,
   "metadata": {},
   "outputs": [],
   "source": [
    "import pandas as pd\n"
   ]
  },
  {
   "cell_type": "code",
   "execution_count": 5,
   "metadata": {},
   "outputs": [
    {
     "data": {
      "text/html": [
       "<div>\n",
       "<style scoped>\n",
       "    .dataframe tbody tr th:only-of-type {\n",
       "        vertical-align: middle;\n",
       "    }\n",
       "\n",
       "    .dataframe tbody tr th {\n",
       "        vertical-align: top;\n",
       "    }\n",
       "\n",
       "    .dataframe thead th {\n",
       "        text-align: right;\n",
       "    }\n",
       "</style>\n",
       "<table border=\"1\" class=\"dataframe\">\n",
       "  <thead>\n",
       "    <tr style=\"text-align: right;\">\n",
       "      <th></th>\n",
       "      <th>Unnamed: 0</th>\n",
       "      <th>Problem</th>\n",
       "      <th>Python Code</th>\n",
       "    </tr>\n",
       "  </thead>\n",
       "  <tbody>\n",
       "    <tr>\n",
       "      <th>0</th>\n",
       "      <td>0</td>\n",
       "      <td>Write a NumPy program to repeat elements of an array.</td>\n",
       "      <td>import numpy as np\\rx = np.repeat(3, 4)\\rprint(x)\\rx = np.array([[1,2],[3,4]])\\rprint(np.repeat(x, 2))\\r</td>\n",
       "    </tr>\n",
       "    <tr>\n",
       "      <th>1</th>\n",
       "      <td>1</td>\n",
       "      <td>Write a Python function to create and print a list where the values are square of numbers between 1 and 30 (both included).</td>\n",
       "      <td>def printValues():\\n\\tl = list()\\n\\tfor i in range(1,31):\\n\\t\\tl.append(i**2)\\n\\tprint(l)\\n\\t\\t\\nprintValues()\\n</td>\n",
       "    </tr>\n",
       "    <tr>\n",
       "      <th>2</th>\n",
       "      <td>2</td>\n",
       "      <td>Write a Python program to remove duplicates from a list of lists.</td>\n",
       "      <td>import itertools\\rnum = [[10, 20], [40], [30, 56, 25], [10, 20], [33], [40]]\\rprint(\"Original List\", num)\\rnum.sort()\\rnew_num = list(num for num,_ in itertools.groupby(num))\\rprint(\"New List\", new_num)\\r</td>\n",
       "    </tr>\n",
       "    <tr>\n",
       "      <th>3</th>\n",
       "      <td>3</td>\n",
       "      <td>Write a NumPy program to compute the x and y coordinates for points on a sine curve and plot the points using matplotlib.</td>\n",
       "      <td>import numpy as np\\rimport matplotlib.pyplot as plt\\r# Compute the x and y coordinates for points on a sine curve\\rx = np.arange(0, 3 * np.pi, 0.2)\\ry = np.sin(x)\\rprint(\"Plot the points using matplotlib:\")\\rplt.plot(x, y)\\rplt.show()\\r</td>\n",
       "    </tr>\n",
       "    <tr>\n",
       "      <th>4</th>\n",
       "      <td>4</td>\n",
       "      <td>Write a Python program to alter a given SQLite table.</td>\n",
       "      <td>import sqlite3\\rfrom sqlite3 import Error\\rdef sql_connection():\\r   try:\\r     conn = sqlite3.connect('mydatabase.db')\\r     return conn\\r   except Error:\\r     print(Error)\\rdef sql_table(conn):\\r   cursorObj = conn.cursor()\\r   cursorObj.execute(\"CREATE TABLE agent_master(agent_code char(6),agent_name char(40),working_area char(35),commission decimal(10,2),phone_no char(15) NULL);\")\\r   print(\"\\nagent_master file has created.\")\\r   \\r   # adding a new column in the agent_master table\\r   cursorObj.execute(\"\"\"\\r   ALTER TABLE agent_master\\r   ADD COLUMN FLAG BOOLEAN;\\r   \"\"\")\\r   print(\"\\nagent_master file altered.\")\\r   conn.commit()\\r   \\rsqllite_conn = sql_connection()\\rsql_table(sqllite_conn)\\rif (sqllite_conn):\\r sqllite_conn.close()\\r print(\"\\nThe SQLite connection is closed.\")\\r</td>\n",
       "    </tr>\n",
       "  </tbody>\n",
       "</table>\n",
       "</div>"
      ],
      "text/plain": [
       "   Unnamed: 0  \\\n",
       "0           0   \n",
       "1           1   \n",
       "2           2   \n",
       "3           3   \n",
       "4           4   \n",
       "\n",
       "                                                                                                                        Problem  \\\n",
       "0                                                                        Write a NumPy program to repeat elements of an array.    \n",
       "1  Write a Python function to create and print a list where the values are square of numbers between 1 and 30 (both included).    \n",
       "2                                                            Write a Python program to remove duplicates from a list of lists.    \n",
       "3    Write a NumPy program to compute the x and y coordinates for points on a sine curve and plot the points using matplotlib.    \n",
       "4                                                                        Write a Python program to alter a given SQLite table.    \n",
       "\n",
       "                                                                                                                                                                                                                                                                                                                                                                                                                                                                                                                                                                                                                                                                                                                                                                                                                      Python Code  \n",
       "0                                                                                                                                                                                                                                                                                                                                                                                                                                                                                                                                                                                                                                                                                                                        import numpy as np\\rx = np.repeat(3, 4)\\rprint(x)\\rx = np.array([[1,2],[3,4]])\\rprint(np.repeat(x, 2))\\r  \n",
       "1                                                                                                                                                                                                                                                                                                                                                                                                                                                                                                                                                                                                                                                                                                                def printValues():\\n\\tl = list()\\n\\tfor i in range(1,31):\\n\\t\\tl.append(i**2)\\n\\tprint(l)\\n\\t\\t\\nprintValues()\\n  \n",
       "2                                                                                                                                                                                                                                                                                                                                                                                                                                                                                                                                                                                                                    import itertools\\rnum = [[10, 20], [40], [30, 56, 25], [10, 20], [33], [40]]\\rprint(\"Original List\", num)\\rnum.sort()\\rnew_num = list(num for num,_ in itertools.groupby(num))\\rprint(\"New List\", new_num)\\r  \n",
       "3                                                                                                                                                                                                                                                                                                                                                                                                                                                                                                                                                                                    import numpy as np\\rimport matplotlib.pyplot as plt\\r# Compute the x and y coordinates for points on a sine curve\\rx = np.arange(0, 3 * np.pi, 0.2)\\ry = np.sin(x)\\rprint(\"Plot the points using matplotlib:\")\\rplt.plot(x, y)\\rplt.show()\\r  \n",
       "4  import sqlite3\\rfrom sqlite3 import Error\\rdef sql_connection():\\r   try:\\r     conn = sqlite3.connect('mydatabase.db')\\r     return conn\\r   except Error:\\r     print(Error)\\rdef sql_table(conn):\\r   cursorObj = conn.cursor()\\r   cursorObj.execute(\"CREATE TABLE agent_master(agent_code char(6),agent_name char(40),working_area char(35),commission decimal(10,2),phone_no char(15) NULL);\")\\r   print(\"\\nagent_master file has created.\")\\r   \\r   # adding a new column in the agent_master table\\r   cursorObj.execute(\"\"\"\\r   ALTER TABLE agent_master\\r   ADD COLUMN FLAG BOOLEAN;\\r   \"\"\")\\r   print(\"\\nagent_master file altered.\")\\r   conn.commit()\\r   \\rsqllite_conn = sql_connection()\\rsql_table(sqllite_conn)\\rif (sqllite_conn):\\r sqllite_conn.close()\\r print(\"\\nThe SQLite connection is closed.\")\\r  "
      ]
     },
     "execution_count": 5,
     "metadata": {},
     "output_type": "execute_result"
    }
   ],
   "source": [
    "df_raw = pd.read_csv('../data/raw/Kaggel/ProblemSolutionPythonV3.csv')\n",
    "\n",
    "df_raw.head(5)"
   ]
  }
 ],
 "metadata": {
  "kernelspec": {
   "display_name": ".venv",
   "language": "python",
   "name": "python3"
  },
  "language_info": {
   "codemirror_mode": {
    "name": "ipython",
    "version": 3
   },
   "file_extension": ".py",
   "mimetype": "text/x-python",
   "name": "python",
   "nbconvert_exporter": "python",
   "pygments_lexer": "ipython3",
   "version": "3.10.12"
  },
  "orig_nbformat": 4
 },
 "nbformat": 4,
 "nbformat_minor": 2
}
